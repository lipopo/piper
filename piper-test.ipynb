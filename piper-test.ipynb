{
 "cells": [
  {
   "cell_type": "code",
   "execution_count": 19,
   "metadata": {
    "scrolled": false
   },
   "outputs": [
    {
     "name": "stdout",
     "output_type": "stream",
     "text": [
      "Hello\n",
      "Hello\n",
      "Hello\n",
      "['Hello', 'Hello']\n"
     ]
    }
   ],
   "source": [
    "from piper.piper import InputPiper, EchoPiper, SplitPiper, ConcatePiper\n",
    "\n",
    "p0 = InputPiper()\n",
    "p1 = EchoPiper()\n",
    "p2 = SplitPiper()\n",
    "p3 = ConcatePiper()\n",
    "p4 = EchoPiper()\n",
    "p5 = EchoPiper()\n",
    "p6 = EchoPiper()\n",
    "\n",
    "\"\"\"\n",
    "p0(InputPiper) --> p1(EchoPiper) --> p2(SplitPiper) --> p4(EchoPiper) --> p3(ConcatePiper) --> p6(EchoPiper)\n",
    "                                                   \\--> p5(EchoPiper)/\n",
    "\"\"\"\n",
    "\n",
    "p0.link(p1)\n",
    "p1.link(p2)\n",
    "p2.link(p4)\n",
    "p2.link(p5)\n",
    "p4.link(p3)\n",
    "p5.link(p3)\n",
    "p3.link(p6)\n",
    "\n",
    "p0(\"Hello\")"
   ]
  },
  {
   "cell_type": "code",
   "execution_count": 36,
   "metadata": {},
   "outputs": [],
   "source": [
    "SplitPiper().target_pipes"
   ]
  },
  {
   "cell_type": "markdown",
   "metadata": {},
   "source": [
    "## Test Build From .flow File"
   ]
  },
  {
   "cell_type": "code",
   "execution_count": 9,
   "metadata": {},
   "outputs": [
    {
     "name": "stdout",
     "output_type": "stream",
     "text": [
      "jjjjjj\n"
     ]
    }
   ],
   "source": [
    "from piper.piper import Piper\n",
    "\n",
    "piper = Piper.build(\"test.flow\")\n",
    "\n",
    "piper(\"jjjjjj\")"
   ]
  },
  {
   "cell_type": "markdown",
   "metadata": {},
   "source": [
    "## Test Piper With Interrupt"
   ]
  },
  {
   "cell_type": "code",
   "execution_count": 1,
   "metadata": {},
   "outputs": [
    {
     "name": "stdout",
     "output_type": "stream",
     "text": [
      "<Piper echo at 0x278f04f8e08>\n",
      "<BaseData at 0x278fbf09288 with <class 'dict'>>\n",
      "<BaseData at 0x278fbf09288 with <class 'dict'>>\n",
      "<BaseData at 0x278fbf09288 with <class 'dict'>>\n",
      "<Piper echo at 0x278f04f8f88>\n",
      "<BaseData at 0x278fbf09288 with <class 'dict'>>\n",
      "-------\n",
      "<Piper echo at 0x278f04f8e08>\n",
      "<BaseData at 0x278fbf09248 with <class 'dict'>>\n",
      "<Piper echo at 0x278f04f8f88>\n",
      "<BaseData at 0x278fbf09248 with <class 'bool'>>\n"
     ]
    }
   ],
   "source": [
    "from piper import BaseData, EchoPiper, SplitPiper, InputPiper, FilterPiper, InterruptPiper\n",
    "\n",
    "\"\"\"\n",
    "in - sp - pe1 - filter1 - interrupt1 - pe3 - pe5\n",
    "        \\ pe2 - filter2 - interrupt2 - pe4 /\n",
    "\"\"\"\n",
    "\n",
    "pin = InputPiper()\n",
    "psp = SplitPiper()\n",
    "\n",
    "pe1 = EchoPiper()\n",
    "pe2 = EchoPiper()\n",
    "\n",
    "filter1 = FilterPiper()\n",
    "filter2 = FilterPiper()\n",
    "\n",
    "interr1 = InterruptPiper()\n",
    "interr2 = InterruptPiper()\n",
    "\n",
    "pe3 = EchoPiper()\n",
    "pe4 = EchoPiper()\n",
    "\n",
    "pe5 = EchoPiper()\n",
    "\n",
    "\n",
    "pin.link(psp)\n",
    "psp.link(pe1)\n",
    "psp.link(pe2)\n",
    "\n",
    "pe1.link(filter1)\n",
    "pe2.link(filter2)\n",
    "\n",
    "filter1.link(interr1)\n",
    "filter2.link(interr2)\n",
    "\n",
    "interr1.link(pe3)\n",
    "interr2.link(pe4)\n",
    "\n",
    "pe3.link(pe5)\n",
    "pe4.link(pe5)\n",
    "\n",
    "\n",
    "# set metainfo\n",
    "filter1.setMetaInfo({\n",
    "    \"filter_key\": \"a\",\n",
    "    \"filter_value\": \"1\"\n",
    "})\n",
    "\n",
    "filter2.setMetaInfo({\n",
    "    \"filter_key\": \"a\",\n",
    "    \"filter_value\": \"2\"\n",
    "})\n",
    "\n",
    "_data0 = BaseData({\n",
    "    \"a\": \"1\"\n",
    "})\n",
    "\n",
    "pin(_data0)\n",
    "\n",
    "print(\"-------\")\n",
    "\n",
    "_data1 = BaseData({\n",
    "    \"a\": \"2\"\n",
    "})\n",
    "pin(_data1)"
   ]
  }
 ],
 "metadata": {
  "kernelspec": {
   "display_name": "Python 3",
   "language": "python",
   "name": "python3"
  },
  "language_info": {
   "codemirror_mode": {
    "name": "ipython",
    "version": 3
   },
   "file_extension": ".py",
   "mimetype": "text/x-python",
   "name": "python",
   "nbconvert_exporter": "python",
   "pygments_lexer": "ipython3",
   "version": "3.7.7"
  }
 },
 "nbformat": 4,
 "nbformat_minor": 4
}
