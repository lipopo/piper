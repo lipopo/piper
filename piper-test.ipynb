{
 "cells": [
  {
   "cell_type": "code",
   "execution_count": 19,
   "metadata": {
    "scrolled": false
   },
   "outputs": [
    {
     "name": "stdout",
     "output_type": "stream",
     "text": [
      "Hello\n",
      "Hello\n",
      "Hello\n",
      "['Hello', 'Hello']\n"
     ]
    }
   ],
   "source": [
    "from piper.piper import InputPiper, EchoPiper, SplitPiper, ConcatePiper\n",
    "\n",
    "p0 = InputPiper()\n",
    "p1 = EchoPiper()\n",
    "p2 = SplitPiper()\n",
    "p3 = ConcatePiper()\n",
    "p4 = EchoPiper()\n",
    "p5 = EchoPiper()\n",
    "p6 = EchoPiper()\n",
    "\n",
    "\"\"\"\n",
    "p0(InputPiper) --> p1(EchoPiper) --> p2(SplitPiper) --> p4(EchoPiper) --> p3(ConcatePiper) --> p6(EchoPiper)\n",
    "                                                   \\--> p5(EchoPiper)/\n",
    "\"\"\"\n",
    "\n",
    "p0.link(p1)\n",
    "p1.link(p2)\n",
    "p2.link(p4)\n",
    "p2.link(p5)\n",
    "p4.link(p3)\n",
    "p5.link(p3)\n",
    "p3.link(p6)\n",
    "\n",
    "p0(\"Hello\")"
   ]
  },
  {
   "cell_type": "code",
   "execution_count": 36,
   "metadata": {},
   "outputs": [],
   "source": [
    "SplitPiper().target_pipes"
   ]
  },
  {
   "cell_type": "markdown",
   "metadata": {},
   "source": [
    "## Test Build From .flow File"
   ]
  },
  {
   "cell_type": "code",
   "execution_count": null,
   "metadata": {},
   "outputs": [],
   "source": [
    "from piper.piper import Piper\n",
    "\n",
    "piper = Piper.build(\"test.flow\")\n",
    "\n",
    "piper(\"Hello\")"
   ]
  }
 ],
 "metadata": {
  "kernelspec": {
   "display_name": "Python 3",
   "language": "python",
   "name": "python3"
  },
  "language_info": {
   "codemirror_mode": {
    "name": "ipython",
    "version": 3
   },
   "file_extension": ".py",
   "mimetype": "text/x-python",
   "name": "python",
   "nbconvert_exporter": "python",
   "pygments_lexer": "ipython3",
   "version": "3.7.7"
  }
 },
 "nbformat": 4,
 "nbformat_minor": 4
}
